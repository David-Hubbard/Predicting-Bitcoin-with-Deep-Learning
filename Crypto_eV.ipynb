{
 "cells": [
  {
   "cell_type": "code",
   "execution_count": null,
   "metadata": {},
   "outputs": [],
   "source": [
    "import numpy as np\n",
    "import pandas as pd\n",
    "#I will use plotly to graph any results etc.\n",
    "import plotly.offline as py\n",
    "import plotly.graph_objs as go\n",
    "py.init_notebook_mode(connected=True)\n",
    "#preprocessing packages\n",
    "from datetime import datetime\n",
    "from sklearn.preprocessing import MinMaxScaler\n",
    "#Keras features that I will use\n",
    "from keras.models import Sequential\n",
    "from keras.layers import Conv1D, Dense, LSTM, GRU\n",
    "from keras.callbacks import EarlyStopping\n",
    "#MSE is used to compare performance of models\n",
    "from sklearn.metrics import mean_squared_error"
   ]
  },
  {
   "cell_type": "code",
   "execution_count": null,
   "metadata": {},
   "outputs": [],
   "source": [
    "#loading the dataset into the notebook\n",
    "dfp = '../input/bitcoin_hourly.csv'\n",
    "df = pd.read_csv(dfp)"
   ]
  },
  {
   "cell_type": "code",
   "execution_count": null,
   "metadata": {},
   "outputs": [],
   "source": [
    "#we choose the start and end dates from the dataset that we want to consider\n",
    "d0 = datetime(2016, 12, 1)\n",
    "d1 = datetime(2018, 6, 27)"
   ]
  },
  {
   "cell_type": "code",
   "execution_count": null,
   "metadata": {},
   "outputs": [],
   "source": [
    "#we resample the data by taking the average daily price\n",
    "daily = df\n",
    "daily.index = pd.to_datetime(daily['Timestamp'])\n",
    "daily = daily.resample('D').mean()\n",
    "daily = daily[d0:d1]\n",
    "daily_df = pd.DataFrame({'Timestamps':daily.index, 'Price':daily['Close']})\n",
    "daily_df = daily_df.set_index(np.arange(daily_df.shape[0]))"
   ]
  },
  {
   "cell_type": "code",
   "execution_count": null,
   "metadata": {},
   "outputs": [],
   "source": [
    "#let's take a look at the price data we're considering\n",
    "trace = go.Scatter(\n",
    "    x = daily_df.Timestamps,\n",
    "    y = daily_df.Price,\n",
    "    mode = 'lines',\n",
    "    name = 'Price')\n",
    "\n",
    "data = [trace]\n",
    "layout = dict(title = 'BTC Daily Price', xaxis = dict(title = 'Time'), yaxis = dict(title = 'Price (USD)'))\n",
    "fig = dict(data=data, layout=layout)\n",
    "\n",
    "py.iplot(fig, filename='BTC_Daily_price')"
   ]
  },
  {
   "cell_type": "code",
   "execution_count": null,
   "metadata": {},
   "outputs": [],
   "source": [
    "#Here we define our Preprocessor class. To prepare the data for a CNN, the data needs to be stacked nicely in arrays;\n",
    "#in our case 1D arrays. For the purpose of the data fitting in appropriate arrays, we trim the data, removing a small\n",
    "#number of initial values. The models will learn by having inputs of the size of N consecutive days, and attempting\n",
    "#to predict the next K. The value alpha determines the approximate proportion of the data outputs that will form\n",
    "#the training set. The sliding window function transforms the data into 2D arrays with rows being the required inputs and outputs.\n",
    "\n",
    "class Preprocessor:\n",
    "    \n",
    "    def __init__(self, N, K, alpha):\n",
    "        \n",
    "        self.K = K\n",
    "        self.N = N\n",
    "        self.alpha = alpha\n",
    "        \n",
    "    def trim_data(self, df):\n",
    "    \n",
    "        if self.K == 1:\n",
    "            df = df\n",
    "        \n",
    "        else:\n",
    "            l = df.shape[0]\n",
    "            r = (l - (2 * self.N)) % self.K \n",
    "            df = df.tail(-r)\n",
    "    \n",
    "        return df\n",
    "    \n",
    "    def test_train_split(self, df):\n",
    "    \n",
    "        l = df.shape[0]\n",
    "        train_l = self.N + self.K * int((self.alpha * (l - 2 * self.N)) / self.K)\n",
    "        train_df = df.head(train_l)\n",
    "        test_df = df.tail(-train_l)\n",
    "    \n",
    "        return train_df, test_df\n",
    "    \n",
    "    def create_sliding_window(self, A):\n",
    "        \n",
    "        assert (A.shape[0] - self.N) % self.K == 0\n",
    "        \n",
    "        m = (A.shape[0] - self.N) \n",
    "        I = np.arange(self.N + self.K) + np.arange(0, m, self.K).reshape(-1,1)\n",
    "        B = A[I].reshape(-1, self.N + self.K, A.shape[2])\n",
    "        X = B[:, :self.N]\n",
    "        y = B[:, self.N:]\n",
    "    \n",
    "        return X, y"
   ]
  },
  {
   "cell_type": "code",
   "execution_count": null,
   "metadata": {},
   "outputs": [],
   "source": [
    "#We make an instance of our Preprocessor class choosing N to be 16 and K to be 10. Roughly 80% of our data is used to train on.\n",
    "\n",
    "N, K = 16, 10\n",
    "alpha = 0.8\n",
    "\n",
    "preprocessor = Preprocessor(N, K, alpha)"
   ]
  },
  {
   "cell_type": "code",
   "execution_count": null,
   "metadata": {},
   "outputs": [],
   "source": [
    "daily_df = preprocessor.trim_data(daily_df)\n",
    "\n",
    "time_stamps = daily_df['Timestamps']\n",
    "daily_price = daily_df.loc[:, ['Price']]"
   ]
  },
  {
   "cell_type": "code",
   "execution_count": null,
   "metadata": {},
   "outputs": [],
   "source": [
    "train_data, test_data = preprocessor.test_train_split(daily_price)\n",
    "original_train_data = train_data\n",
    "original_test_data = test_data"
   ]
  },
  {
   "cell_type": "code",
   "execution_count": null,
   "metadata": {},
   "outputs": [],
   "source": [
    "#we need our data in the form of NumPy arrays to be used in the Keras model\n",
    "#we keep track of the original data\n",
    "train_data = np.array(train_data)[:,None,:]\n",
    "test_data = np.array(test_data)[:,None,:]\n",
    "original_train_data_array = np.array(original_train_data)[:,None,:]\n",
    "original_test_data_array = np.array(original_test_data)[:,None,:]"
   ]
  },
  {
   "cell_type": "code",
   "execution_count": null,
   "metadata": {},
   "outputs": [],
   "source": [
    "#it is important to scale the data when using a deep learning model\n",
    "#the scaler is derived only from the training data to avoid any minor data leakage\n",
    "scaler = MinMaxScaler()\n",
    "\n",
    "train_data[:,0] = scaler.fit_transform(train_data[:,0].reshape(-1,1))\n",
    "test_data[:,0] = scaler.transform(test_data[:,0].reshape(-1,1))"
   ]
  },
  {
   "cell_type": "code",
   "execution_count": null,
   "metadata": {},
   "outputs": [],
   "source": [
    "#the X values are sequential rows of price data and the y values are corresponding rows of the following K days of prices\n",
    "X_train, y_train = preprocessor.create_sliding_window(train_data)\n",
    "X_test, y_test = preprocessor.create_sliding_window(test_data)"
   ]
  },
  {
   "cell_type": "code",
   "execution_count": null,
   "metadata": {},
   "outputs": [],
   "source": [
    "#we make a dataframe of the true prices to compare against our predictions later\n",
    "pred_times = time_stamps.tail(test_data.shape[0] - N)\n",
    "true_prices = daily_price['Price'].tail(test_data.shape[0] - N)\n",
    "true_prices_df = pd.DataFrame()\n",
    "true_prices_df['Timestamps'] = pred_times\n",
    "true_prices_df['Price'] = true_prices"
   ]
  },
  {
   "cell_type": "code",
   "execution_count": null,
   "metadata": {},
   "outputs": [],
   "source": [
    "#We design a Tester class which makes it easy to create an instance of a CNN, LSTM or GRU model with different hyperparameters.\n",
    "#Due to the nature of a CNN being very rigid with respect to the input and output size and the method in which it reduces the\n",
    "#input size, we must explicitly define the structure of the CNN with respect to the values of N and K.\n",
    "\n",
    "class Tester:\n",
    "    \n",
    "    def __init__(self, epochs, batch_size, activation, loss, optimer, patience):\n",
    "        \n",
    "        self.epochs = epochs\n",
    "        self.batch_size = batch_size\n",
    "        self.activation = activation\n",
    "        self.loss = loss\n",
    "        self.optimer = optimer\n",
    "        self.patience = patience\n",
    "\n",
    "    def apply_CNN_model(self, X_train, y_train, X_test, y_test):\n",
    "    \n",
    "        step_size = X_train.shape[1]\n",
    "        no_of_features = X_train.shape[2]\n",
    "        batch_size = self.batch_size\n",
    "        epochs = self.epochs\n",
    "    \n",
    "        CNN_model = Sequential()\n",
    "\n",
    "        CNN_model.add(Conv1D(input_shape=(step_size,no_of_features), activation='relu', strides=1, filters=8, kernel_size=3))\n",
    "        CNN_model.add(Conv1D(activation='relu', strides=1, filters=8, kernel_size=3))\n",
    "        CNN_model.add(Conv1D(activation='relu', strides=1, filters=4, kernel_size=2))\n",
    "        CNN_model.add(Conv1D(activation=self.activation, strides=1, filters=no_of_features, kernel_size=2))\n",
    "        \n",
    "        CNN_model.compile(loss=self.loss, optimizer=self.optimer)\n",
    "        \n",
    "        CNN_history = CNN_model.fit(X_train, y_train,\n",
    "                            verbose=1,\n",
    "                            batch_size=self.batch_size,\n",
    "                            validation_data=(X_test, y_test),\n",
    "                            epochs = self.epochs,\n",
    "                            callbacks = [EarlyStopping(monitor='loss', patience=self.patience, verbose=1)])\n",
    "        \n",
    "        return CNN_history, CNN_model\n",
    "    \n",
    "    def apply_LSTM_model(self, X_train, y_train, X_test, y_test, units):\n",
    "    \n",
    "        step_size = X_train.shape[1]\n",
    "        units = units\n",
    "        batch_size = self.batch_size\n",
    "        no_of_features = X_train.shape[2]\n",
    "        epochs = self.epochs\n",
    "        output_size = K\n",
    "\n",
    "        LSTM_model = Sequential()\n",
    "        LSTM_model.add(LSTM(units=units, input_shape=(step_size, no_of_features), return_sequences=False))\n",
    "        LSTM_model.add(Dense(activation=self.activation, units=output_size))\n",
    "\n",
    "        LSTM_model.compile(loss=self.loss, optimizer=self.optimer)\n",
    "\n",
    "        LSTM_history = LSTM_model.fit(X_train, y_train,\n",
    "                              batch_size=self.batch_size,\n",
    "                              validation_data=(X_test, y_test), \n",
    "                              epochs = epochs,\n",
    "                              callbacks = [EarlyStopping(monitor='loss',patience=self.patience, verbose=1)])\n",
    "        \n",
    "        return LSTM_history, LSTM_model\n",
    "    \n",
    "    def apply_GRU_model(self, X_train, y_train, X_test, y_test, units):\n",
    "    \n",
    "        step_size = X_train.shape[1]\n",
    "        units = units\n",
    "        batch_size = self.batch_size\n",
    "        no_of_features = X_train.shape[2]\n",
    "        epochs = self.epochs\n",
    "        output_size = K\n",
    "\n",
    "        GRU_model = Sequential()\n",
    "        GRU_model.add(GRU(units=units, input_shape=(step_size,no_of_features), return_sequences=False))\n",
    "        GRU_model.add(Dense(output_size, activation=self.activation))\n",
    "\n",
    "        GRU_model.compile(loss=loss, optimizer=self.optimer)\n",
    "\n",
    "        GRU_history = GRU_model.fit(X_train, y_train,\n",
    "                            batch_size=self.batch_size,\n",
    "                            validation_data=(X_test, y_test), \n",
    "                            epochs = self.epochs,\n",
    "                            callbacks = [EarlyStopping(monitor='loss', patience=self.patience, verbose=1)])\n",
    "        \n",
    "        return GRU_history, GRU_model"
   ]
  },
  {
   "cell_type": "code",
   "execution_count": null,
   "metadata": {},
   "outputs": [],
   "source": [
    "#The Evaluator class has methods which allow visualisations of loss and predicitons. There are two important methods in the class;\n",
    "#forward_predict and invert_preds. The former is important as I would like to consider two methods for forecasting. The first seeks\n",
    "#to view the model as learning to be able to predict K days in the future and would work by, firstly learning weights from the\n",
    "#training data, then predicting the next K days, receving N more days of information, then predicting the next K days \n",
    "#(without updating its weights). The second method uses the forward_predict function and feeds the predictions that\n",
    "#a given model makes back into the model to make further predictions. In this way, the model can predict as many days\n",
    "#into the future as desired. The invert_preds function uses the inverse transformation from the earlier scaler so we\n",
    "#can view the predictions on the same scale as the original data.\n",
    "\n",
    "class Evaluator:\n",
    "        \n",
    "    def plot_loss(self, history, model_name):\n",
    "        \n",
    "        trace1 = go.Scatter(\n",
    "        x = np.arange(0, len(history.history['loss'])),\n",
    "        y = history.history['loss'],\n",
    "        mode = 'lines',\n",
    "        name = 'Loss')\n",
    "\n",
    "        trace2 = go.Scatter(\n",
    "        x = np.arange(0, len(history.history['val_loss'])),\n",
    "        y = history.history['val_loss'],\n",
    "        mode = 'lines',\n",
    "        name = 'Validation Loss')\n",
    "\n",
    "        data = [trace1, trace2]\n",
    "        layout = dict(title = model_name + ' Accuracy', xaxis = dict(title = 'Epochs'), yaxis = dict(title = 'Loss'))\n",
    "        fig = dict(data=data, layout=layout)\n",
    "    \n",
    "        return fig\n",
    "    \n",
    "    def forward_predict(self, X_test, model, K):\n",
    "        \n",
    "        predictions = X_test[None,0,:]\n",
    "\n",
    "        for i in range(X_test.shape[0]):\n",
    "            predictions = np.append(predictions,\n",
    "                                    model.predict(predictions[None, 0, i*K : X_test.shape[1] + i*K]))[None,:,None]\n",
    "\n",
    "        predictions = predictions[None,0,X_test.shape[1]:]\n",
    "        \n",
    "        return predictions\n",
    "    \n",
    "    def invert_preds(self, predictions, pred_times, scaler, original_data_array):\n",
    "        \n",
    "        predictions_inverted = []\n",
    "        scaler.fit(original_data_array[:,0].reshape(-1,1))\n",
    "\n",
    "        predictions_inverted.append(scaler.inverse_transform(predictions))\n",
    "        predictions_inverted =  np.array(predictions_inverted).reshape(-1)\n",
    "\n",
    "        predictions_df = pd.DataFrame()\n",
    "        predictions_df['Timestamps'] = pred_times\n",
    "        predictions_df['Price'] = predictions_inverted\n",
    "        \n",
    "        return predictions_df\n",
    "    \n",
    "    def plot_preds(self, preds, true, times, model_name):\n",
    "        \n",
    "        trace1 = go.Scatter(\n",
    "        x = times,\n",
    "        y = true,\n",
    "        mode = 'lines',\n",
    "        name = 'Actual')\n",
    "\n",
    "        trace2 = go.Scatter(\n",
    "        x = times,\n",
    "        y = preds,\n",
    "        mode = 'lines',\n",
    "        name = 'Predicted')\n",
    "\n",
    "        data = [trace1, trace2]\n",
    "        layout = dict(title = model_name + ' Predictions', xaxis = dict(title = 'Time'), yaxis = dict(title = 'Price (USD)'))\n",
    "        fig = dict(data=data, layout=layout)\n",
    "    \n",
    "        return fig\n",
    "    \n",
    "    def get_mse(self, predictions, true_values, model_name):\n",
    "        \n",
    "        mse = mean_squared_error(predictions, true_values)\n",
    "        print(model_name + ': ' + str(mse))\n",
    "        \n",
    "        return mse"
   ]
  },
  {
   "cell_type": "code",
   "execution_count": null,
   "metadata": {},
   "outputs": [],
   "source": [
    "#here we make choices on a few hyperparameters\n",
    "epochs = 100\n",
    "batch_size = 1\n",
    "loss = 'mse'\n",
    "optimer = 'adam'\n",
    "patience = 30\n",
    "\n",
    "evaluator = Evaluator()"
   ]
  },
  {
   "cell_type": "code",
   "execution_count": null,
   "metadata": {},
   "outputs": [],
   "source": [
    "#for the CNN model I found using a tanh activation in the penultimate layer was necessary to give improved results\n",
    "CNN_tester = Tester(epochs, batch_size, 'tanh', loss, optimer, patience)\n",
    "CNN_history, CNN_model = CNN_tester.apply_CNN_model(X_train, y_train, X_test, y_test)"
   ]
  },
  {
   "cell_type": "code",
   "execution_count": null,
   "metadata": {},
   "outputs": [],
   "source": [
    "#here we plot the validation loss against the loss on the training set\n",
    "#ideally we would want both values to go down over time with validation loss being slightly higher than loss\n",
    "fig = evaluator.plot_loss(CNN_history, 'CNN Model')\n",
    "py.iplot(fig, filename='CNN_Model_Accuracy')"
   ]
  },
  {
   "cell_type": "code",
   "execution_count": null,
   "metadata": {},
   "outputs": [],
   "source": [
    "#First we generate our rolling predictions where new data is given to the model to make further predictions on.\n",
    "\n"
   ]
  },
  {
   "cell_type": "code",
   "execution_count": null,
   "metadata": {},
   "outputs": [],
   "source": [
    "CNN_rolling_predictions = CNN_model.predict(X_test)"
   ]
  },
  {
   "cell_type": "code",
   "execution_count": null,
   "metadata": {},
   "outputs": [],
   "source": [
    "CNN_rolling_predictions_df = evaluator.invert_preds(CNN_rolling_predictions[:,:,0], pred_times, scaler, original_train_data_array)"
   ]
  },
  {
   "cell_type": "code",
   "execution_count": null,
   "metadata": {},
   "outputs": [],
   "source": [
    "fig = evaluator.plot_preds(CNN_rolling_predictions_df.Price, true_prices_df.Price, pred_times, 'CNN Rolling Model')\n",
    "py.iplot(fig, filename='CNN_Rolling_Model_Predictions')"
   ]
  },
  {
   "cell_type": "code",
   "execution_count": null,
   "metadata": {},
   "outputs": [],
   "source": [
    "#Next we generate our predictions generated by feeding predictions back into the model.\n",
    "\n",
    "CNN_predictions = evaluator.forward_predict(X_test, CNN_model, K)"
   ]
  },
  {
   "cell_type": "code",
   "execution_count": null,
   "metadata": {},
   "outputs": [],
   "source": [
    "CNN_predictions_df = evaluator.invert_preds(CNN_predictions[:,:,0], pred_times, scaler, original_train_data_array)"
   ]
  },
  {
   "cell_type": "code",
   "execution_count": null,
   "metadata": {},
   "outputs": [],
   "source": [
    "fig = evaluator.plot_preds(CNN_predictions_df.Price, true_prices_df.Price, pred_times, 'CNN Model')\n",
    "py.iplot(fig, filename='CNN_Model_Predictions')"
   ]
  },
  {
   "cell_type": "code",
   "execution_count": null,
   "metadata": {},
   "outputs": [],
   "source": [
    "#We print the MSE for both methods.\n",
    "\n",
    "CNN_MSE = evaluator.get_mse(CNN_predictions_df['Price'], true_prices_df['Price'], 'CNN Model')"
   ]
  },
  {
   "cell_type": "code",
   "execution_count": null,
   "metadata": {},
   "outputs": [],
   "source": [
    "CNN_rolling_MSE = evaluator.get_mse(CNN_rolling_predictions_df['Price'], true_prices, 'CNN Rolling Model')"
   ]
  },
  {
   "cell_type": "code",
   "execution_count": null,
   "metadata": {},
   "outputs": [],
   "source": [
    "We now do the same for the RNN models. I have chose 128 units in both models so that the run time is not too high.\n",
    "\n",
    "units = 128\n",
    "RNN_tester = Tester(epochs, batch_size, 'relu', loss, optimer, patience)\n",
    "LSTM_history, LSTM_model = RNN_tester.apply_LSTM_model(X_train, y_train[:,:,0], X_test, y_test[:,:,0], units)"
   ]
  },
  {
   "cell_type": "code",
   "execution_count": null,
   "metadata": {},
   "outputs": [],
   "source": [
    "fig = evaluator.plot_loss(LSTM_history, 'LSTM Model')\n",
    "py.iplot(fig, filename='LSTM_Model_Accuracy')"
   ]
  },
  {
   "cell_type": "code",
   "execution_count": null,
   "metadata": {},
   "outputs": [],
   "source": [
    "LSTM_rolling_predictions = LSTM_model.predict(X_test)"
   ]
  },
  {
   "cell_type": "code",
   "execution_count": null,
   "metadata": {},
   "outputs": [],
   "source": [
    "LSTM_rolling_predictions_df = evaluator.invert_preds(LSTM_rolling_predictions, pred_times, scaler, original_train_data_array)"
   ]
  },
  {
   "cell_type": "code",
   "execution_count": null,
   "metadata": {},
   "outputs": [],
   "source": [
    "fig = evaluator.plot_preds(LSTM_rolling_predictions_df.Price, true_prices_df.Price, pred_times, 'LSTM Rolling Model')\n",
    "py.iplot(fig, filename='LSTM_Rolling_Model_Predictions')"
   ]
  },
  {
   "cell_type": "code",
   "execution_count": null,
   "metadata": {},
   "outputs": [],
   "source": [
    "LSTM_predictions = evaluator.forward_predict(X_test, LSTM_model, K)"
   ]
  },
  {
   "cell_type": "code",
   "execution_count": null,
   "metadata": {},
   "outputs": [],
   "source": [
    "LSTM_predictions_df = evaluator.invert_preds(LSTM_predictions[:,:,0], pred_times, scaler, original_train_data_array)"
   ]
  },
  {
   "cell_type": "code",
   "execution_count": null,
   "metadata": {},
   "outputs": [],
   "source": [
    "fig = evaluator.plot_preds(LSTM_predictions_df.Price, true_prices_df.Price, pred_times, 'LSTM Model')\n",
    "py.iplot(fig, filename='LSTM_Model_Predictions')"
   ]
  },
  {
   "cell_type": "code",
   "execution_count": null,
   "metadata": {},
   "outputs": [],
   "source": [
    "LSTM_MSE = evaluator.get_mse(LSTM_predictions_df['Price'], true_prices_df['Price'], 'LSTM Model')"
   ]
  },
  {
   "cell_type": "code",
   "execution_count": null,
   "metadata": {},
   "outputs": [],
   "source": [
    "LSTM_rolling_MSE = evaluator.get_mse(LSTM_rolling_predictions_df['Price'], true_prices, 'LSTM Rolling Model')"
   ]
  },
  {
   "cell_type": "code",
   "execution_count": null,
   "metadata": {},
   "outputs": [],
   "source": [
    "units = 128\n",
    "GRU_history, GRU_model = RNN_tester.apply_GRU_model(X_train, y_train[:,:,0], X_test, y_test[:,:,0], units)"
   ]
  },
  {
   "cell_type": "code",
   "execution_count": null,
   "metadata": {},
   "outputs": [],
   "source": [
    "fig = evaluator.plot_loss(GRU_history, 'GRU Model')\n",
    "py.iplot(fig, filename='GRU_Model_Accuracy')"
   ]
  },
  {
   "cell_type": "code",
   "execution_count": null,
   "metadata": {},
   "outputs": [],
   "source": [
    "GRU_rolling_predictions = GRU_model.predict(X_test)"
   ]
  },
  {
   "cell_type": "code",
   "execution_count": null,
   "metadata": {},
   "outputs": [],
   "source": [
    "GRU_rolling_predictions_df = evaluator.invert_preds(GRU_rolling_predictions, pred_times, scaler, original_train_data_array)"
   ]
  },
  {
   "cell_type": "code",
   "execution_count": null,
   "metadata": {},
   "outputs": [],
   "source": [
    "fig = evaluator.plot_preds(GRU_rolling_predictions_df.Price, true_prices_df.Price, pred_times, 'GRU Rolling Model')\n",
    "py.iplot(fig, filename='GRU_Rolling_Model_Predictions')"
   ]
  },
  {
   "cell_type": "code",
   "execution_count": null,
   "metadata": {},
   "outputs": [],
   "source": [
    "GRU_predictions = evaluator.forward_predict(X_test, GRU_model, K)"
   ]
  },
  {
   "cell_type": "code",
   "execution_count": null,
   "metadata": {},
   "outputs": [],
   "source": [
    "GRU_predictions_df = evaluator.invert_preds(GRU_predictions[:,:,0], pred_times, scaler, original_train_data_array)"
   ]
  },
  {
   "cell_type": "code",
   "execution_count": null,
   "metadata": {},
   "outputs": [],
   "source": [
    "fig = evaluator.plot_preds(GRU_predictions_df.Price, true_prices_df.Price, pred_times, 'GRU Model')\n",
    "py.iplot(fig, filename='GRU_Model_Predictions')"
   ]
  },
  {
   "cell_type": "code",
   "execution_count": null,
   "metadata": {},
   "outputs": [],
   "source": [
    "GRU_MSE = evaluator.get_mse(GRU_predictions_df['Price'], true_prices_df['Price'], 'GRU Model')"
   ]
  },
  {
   "cell_type": "code",
   "execution_count": null,
   "metadata": {},
   "outputs": [],
   "source": [
    "GRU_rolling_MSE = evaluator.get_mse(GRU_rolling_predictions_df['Price'], true_prices, 'GRU rolling Model')"
   ]
  }
 ],
 "metadata": {
  "kernelspec": {
   "display_name": "Python 3",
   "language": "python",
   "name": "python3"
  },
  "language_info": {
   "codemirror_mode": {
    "name": "ipython",
    "version": 3
   },
   "file_extension": ".py",
   "mimetype": "text/x-python",
   "name": "python",
   "nbconvert_exporter": "python",
   "pygments_lexer": "ipython3",
   "version": "3.6.5"
  }
 },
 "nbformat": 4,
 "nbformat_minor": 2
}
