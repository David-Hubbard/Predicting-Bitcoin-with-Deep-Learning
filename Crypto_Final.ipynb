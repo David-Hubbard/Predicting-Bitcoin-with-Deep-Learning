{
 "cells": [
  {
   "cell_type": "code",
   "execution_count": 1,
   "metadata": {},
   "outputs": [
    {
     "name": "stderr",
     "output_type": "stream",
     "text": [
      "C:\\Users\\david\\Anaconda3\\lib\\site-packages\\h5py\\__init__.py:36: FutureWarning:\n",
      "\n",
      "Conversion of the second argument of issubdtype from `float` to `np.floating` is deprecated. In future, it will be treated as `np.float64 == np.dtype(float).type`.\n",
      "\n",
      "Using TensorFlow backend.\n"
     ]
    }
   ],
   "source": [
    "import numpy as np\n",
    "import pandas as pd\n",
    "import plotly\n",
    "plotly.tools.set_credentials_file(username='david.hubbard', api_key='jJxQ6DXpVCat3hEhRoPg')\n",
    "import plotly.plotly as py\n",
    "import plotly.graph_objs as go\n",
    "from datetime import datetime\n",
    "from sklearn.preprocessing import MinMaxScaler\n",
    "from keras.models import Sequential\n",
    "from keras.layers import Conv1D, Dense, LSTM, GRU\n",
    "from keras.callbacks import EarlyStopping\n",
    "from sklearn.metrics import mean_squared_error"
   ]
  },
  {
   "cell_type": "code",
   "execution_count": 2,
   "metadata": {},
   "outputs": [],
   "source": [
    "dfp = r'C:\\Users\\david\\Documents\\BitCoin Time Series Data Analysis\\bitcoin_hourly.csv'\n",
    "df = pd.read_csv(dfp)"
   ]
  },
  {
   "cell_type": "code",
   "execution_count": 3,
   "metadata": {},
   "outputs": [],
   "source": [
    "d0 = datetime(2016, 12, 1)\n",
    "d1 = datetime(2018, 6, 27)"
   ]
  },
  {
   "cell_type": "code",
   "execution_count": 4,
   "metadata": {},
   "outputs": [],
   "source": [
    "daily = df\n",
    "daily.index = pd.to_datetime(daily['Timestamp'])\n",
    "daily = daily.resample('D').mean()\n",
    "daily = daily[d0:d1]\n",
    "daily_df = pd.DataFrame({'Timestamps':daily.index, 'Price':daily['Close']})\n",
    "daily_df = daily_df.set_index(np.arange(daily_df.shape[0]))"
   ]
  },
  {
   "cell_type": "code",
   "execution_count": 5,
   "metadata": {},
   "outputs": [
    {
     "data": {
      "text/html": [
       "<iframe id=\"igraph\" scrolling=\"no\" style=\"border:none;\" seamless=\"seamless\" src=\"https://plot.ly/~david.hubbard/22.embed\" height=\"525px\" width=\"100%\"></iframe>"
      ],
      "text/plain": [
       "<plotly.tools.PlotlyDisplay object>"
      ]
     },
     "execution_count": 5,
     "metadata": {},
     "output_type": "execute_result"
    }
   ],
   "source": [
    "trace = go.Scatter(\n",
    "    x = daily_df.Timestamps,\n",
    "    y = daily_df.Price,\n",
    "    mode = 'lines',\n",
    "    name = 'Price')\n",
    "\n",
    "data = [trace]\n",
    "layout = dict(title = 'BTC Daily Price', xaxis = dict(title = 'Time'), yaxis = dict(title = 'Price (USD)'))\n",
    "fig = dict(data=data, layout=layout)\n",
    "\n",
    "py.iplot(fig, filename='BTC_Daily_price')"
   ]
  },
  {
   "cell_type": "code",
   "execution_count": 6,
   "metadata": {},
   "outputs": [],
   "source": [
    "class Preprocesser:\n",
    "    \n",
    "    def __init__(self, N, K, alpha):\n",
    "        \n",
    "        self.K = K\n",
    "        self.N = N\n",
    "        self.alpha = alpha\n",
    "        \n",
    "    def trim_data(self, df):\n",
    "    \n",
    "        if self.K == 1:\n",
    "            df = df\n",
    "        \n",
    "        else:\n",
    "            l = df.shape[0]\n",
    "            r = (l - (2 * self.N)) % self.K \n",
    "            df = df.tail(-r)\n",
    "    \n",
    "        return df\n",
    "    \n",
    "    def test_train_split(self, df):\n",
    "    \n",
    "        l = df.shape[0]\n",
    "        train_l = self.N + self.K * int((self.alpha * (l - 2 * self.N)) / self.K)\n",
    "        train_df = df.head(train_l)\n",
    "        test_df = df.tail(-train_l)\n",
    "    \n",
    "        return train_df, test_df\n",
    "    \n",
    "    def create_sliding_window(self, A):\n",
    "        \n",
    "        assert (A.shape[0] - self.N) % self.K == 0\n",
    "        \n",
    "        m = (A.shape[0] - self.N) \n",
    "        I = np.arange(self.N + self.K) + np.arange(0, m, self.K).reshape(-1,1)\n",
    "        B = A[I].reshape(-1, self.N + self.K, A.shape[2])\n",
    "        X = B[:, :self.N]\n",
    "        y = B[:, self.N:]\n",
    "    \n",
    "        return X, y"
   ]
  },
  {
   "cell_type": "code",
   "execution_count": 7,
   "metadata": {},
   "outputs": [],
   "source": [
    "N, K = 16, 10\n",
    "alpha = 0.8\n",
    "preprocessor = Preprocesser(N, K, alpha)"
   ]
  },
  {
   "cell_type": "code",
   "execution_count": 8,
   "metadata": {},
   "outputs": [],
   "source": [
    "daily_df = preprocessor.trim_data(daily_df)\n",
    "\n",
    "time_stamps = daily_df['Timestamps']\n",
    "daily_price = daily_df.loc[:, ['Price']]"
   ]
  },
  {
   "cell_type": "code",
   "execution_count": 9,
   "metadata": {},
   "outputs": [],
   "source": [
    "train_data, test_data = preprocessor.test_train_split(daily_price)\n",
    "original_train_data = train_data\n",
    "original_test_data = test_data"
   ]
  },
  {
   "cell_type": "code",
   "execution_count": 10,
   "metadata": {},
   "outputs": [],
   "source": [
    "train_data = np.array(train_data)[:,None,:]\n",
    "test_data = np.array(test_data)[:,None,:]\n",
    "original_train_data_array = np.array(original_train_data)[:,None,:]\n",
    "original_test_data_array = np.array(original_test_data)[:,None,:]"
   ]
  },
  {
   "cell_type": "code",
   "execution_count": 11,
   "metadata": {},
   "outputs": [],
   "source": [
    "scaler = MinMaxScaler()\n",
    "\n",
    "train_data[:,0] = scaler.fit_transform(train_data[:,0].reshape(-1,1))\n",
    "test_data[:,0] = scaler.transform(test_data[:,0].reshape(-1,1))"
   ]
  },
  {
   "cell_type": "code",
   "execution_count": 12,
   "metadata": {},
   "outputs": [],
   "source": [
    "X_train, y_train = preprocessor.create_sliding_window(train_data)\n",
    "X_test, y_test = preprocessor.create_sliding_window(test_data)"
   ]
  },
  {
   "cell_type": "code",
   "execution_count": 13,
   "metadata": {},
   "outputs": [],
   "source": [
    "pred_times = time_stamps.tail(test_data.shape[0] - N)\n",
    "true_prices = daily_price['Price'].tail(test_data.shape[0] - N)\n",
    "true_prices_df = pd.DataFrame()\n",
    "true_prices_df['Timestamps'] = pred_times\n",
    "true_prices_df['Price'] = true_prices"
   ]
  },
  {
   "cell_type": "code",
   "execution_count": 14,
   "metadata": {},
   "outputs": [],
   "source": [
    "class Tester:\n",
    "    \n",
    "    def __init__(self, epochs, batch_size, activation, loss, optimer, patience):\n",
    "        \n",
    "        self.epochs = epochs\n",
    "        self.batch_size = batch_size\n",
    "        self.activation = activation\n",
    "        self.loss = loss\n",
    "        self.optimer = optimer\n",
    "        self.patience = patience\n",
    "\n",
    "    def apply_CNN_model(self, X_train, y_train, X_test, y_test):\n",
    "    \n",
    "        step_size = X_train.shape[1]\n",
    "        no_of_features = X_train.shape[2]\n",
    "        batch_size = self.batch_size\n",
    "        epochs = self.epochs\n",
    "    \n",
    "        CNN_model = Sequential()\n",
    "\n",
    "        CNN_model.add(Conv1D(input_shape=(step_size,no_of_features), activation='relu', strides=1, filters=8, kernel_size=3))\n",
    "        CNN_model.add(Conv1D(activation='relu', strides=1, filters=8, kernel_size=3))\n",
    "        CNN_model.add(Conv1D(activation='relu', strides=1, filters=4, kernel_size=2))\n",
    "        CNN_model.add(Conv1D(activation=self.activation, strides=1, filters=no_of_features, kernel_size=2))\n",
    "        \n",
    "        CNN_model.compile(loss=self.loss, optimizer=self.optimer)\n",
    "        \n",
    "        CNN_history = CNN_model.fit(X_train, y_train,\n",
    "                            verbose=1,\n",
    "                            batch_size=self.batch_size,\n",
    "                            validation_data=(X_test, y_test),\n",
    "                            epochs = self.epochs,\n",
    "                            callbacks = [EarlyStopping(monitor='val_loss', patience=self.patience, verbose=1)])\n",
    "        \n",
    "        return CNN_history, CNN_model\n",
    "    \n",
    "    def apply_LSTM_model(self, X_train, y_train, X_test, y_test, units):\n",
    "    \n",
    "        step_size = X_train.shape[1]\n",
    "        units = units\n",
    "        batch_size = self.batch_size\n",
    "        no_of_features = X_train.shape[2]\n",
    "        epochs = self.epochs\n",
    "        output_size = K\n",
    "\n",
    "        LSTM_model = Sequential()\n",
    "        LSTM_model.add(LSTM(units=units, input_shape=(step_size, no_of_features), return_sequences=False))\n",
    "        LSTM_model.add(Dense(activation=self.activation, units=output_size))\n",
    "\n",
    "        LSTM_model.compile(loss=self.loss, optimizer=self.optimer)\n",
    "\n",
    "        LSTM_history = LSTM_model.fit(X_train, y_train,\n",
    "                              batch_size=self.batch_size,\n",
    "                              validation_data=(X_test, y_test), \n",
    "                              epochs = epochs,\n",
    "                              callbacks = [EarlyStopping(monitor='val_loss',patience=self.patience, verbose=1)])\n",
    "        \n",
    "        return LSTM_history, LSTM_model\n",
    "    \n",
    "    def apply_GRU_model(self, X_train, y_train, X_test, y_test, units):\n",
    "    \n",
    "        step_size = X_train.shape[1]\n",
    "        units = units\n",
    "        batch_size = self.batch_size\n",
    "        no_of_features = X_train.shape[2]\n",
    "        epochs = self.epochs\n",
    "        output_size = K\n",
    "\n",
    "        GRU_model = Sequential()\n",
    "        GRU_model.add(GRU(units=units, input_shape=(step_size,no_of_features), return_sequences=False))\n",
    "        GRU_model.add(Dropout(0.5))\n",
    "        GRU_model.add(Dense(output_size, activation=self.activation))\n",
    "\n",
    "        GRU_model.compile(loss=loss, optimizer=self.optimer)\n",
    "\n",
    "        GRU_history = GRU_model.fit(X_train, y_train,\n",
    "                            batch_size=self.batch_size,\n",
    "                            validation_data=(X_test, y_test), \n",
    "                            epochs = self.epochs,\n",
    "                            callbacks = [EarlyStopping(monitor='val_loss', patience=self.patience, verbose=1)])\n",
    "        \n",
    "        return GRU_history, GRU_model"
   ]
  },
  {
   "cell_type": "code",
   "execution_count": 15,
   "metadata": {},
   "outputs": [],
   "source": [
    "class Evaluator:\n",
    "        \n",
    "    def plot_loss(self, history, model_name):\n",
    "        \n",
    "        trace1 = go.Scatter(\n",
    "        x = np.arange(0, len(history.history['loss'])),\n",
    "        y = history.history['loss'],\n",
    "        mode = 'lines',\n",
    "        name = 'Loss')\n",
    "\n",
    "        trace2 = go.Scatter(\n",
    "        x = np.arange(0, len(history.history['val_loss'])),\n",
    "        y = history.history['val_loss'],\n",
    "        mode = 'lines',\n",
    "        name = 'Validation Loss')\n",
    "\n",
    "        data = [trace1, trace2]\n",
    "        layout = dict(title = model_name + ' Accuracy', xaxis = dict(title = 'Epochs'), yaxis = dict(title = 'Loss'))\n",
    "        fig = dict(data=data, layout=layout)\n",
    "    \n",
    "        return fig\n",
    "    \n",
    "    def forward_predict(self, X_test, model, K):\n",
    "        \n",
    "        predictions = X_test[None,0,:]\n",
    "\n",
    "        for i in range(X_test.shape[0]):\n",
    "            predictions = np.append(predictions,\n",
    "                                    model.predict(predictions[None, 0, i*K : X_test.shape[1] + i*K]))[None,:,None]\n",
    "\n",
    "        predictions = predictions[None,0,X_test.shape[1]:]\n",
    "        \n",
    "        return predictions\n",
    "    \n",
    "    def invert_preds(self, predictions, pred_times, scaler, original_data_array):\n",
    "        \n",
    "        predictions_inverted = []\n",
    "        scaler.fit(original_data_array[:,0].reshape(-1,1))\n",
    "\n",
    "        predictions_inverted.append(scaler.inverse_transform(predictions))\n",
    "        predictions_inverted =  np.array(predictions_inverted).reshape(-1)\n",
    "\n",
    "        predictions_df = pd.DataFrame()\n",
    "        predictions_df['Timestamps'] = pred_times\n",
    "        predictions_df['Price'] = predictions_inverted\n",
    "        \n",
    "        return predictions_df\n",
    "    \n",
    "    def plot_preds(self, preds, true, times, model_name):\n",
    "        \n",
    "        trace1 = go.Scatter(\n",
    "        x = times,\n",
    "        y = true,\n",
    "        mode = 'lines',\n",
    "        name = 'Actual')\n",
    "\n",
    "        trace2 = go.Scatter(\n",
    "        x = times,\n",
    "        y = preds,\n",
    "        mode = 'lines',\n",
    "        name = 'Predicted')\n",
    "\n",
    "        data = [trace1, trace2]\n",
    "        layout = dict(title = model_name + ' Predictions', xaxis = dict(title = 'Time'), yaxis = dict(title = 'Price (USD)'))\n",
    "        fig = dict(data=data, layout=layout)\n",
    "    \n",
    "        return fig\n",
    "    \n",
    "    def get_mse(self, predictions, true_values, model_name):\n",
    "        \n",
    "        mse = mean_squared_error(predictions, true_values)\n",
    "        print(model_name + ': ' + str(mse))\n",
    "        \n",
    "        return mse"
   ]
  },
  {
   "cell_type": "code",
   "execution_count": 16,
   "metadata": {},
   "outputs": [],
   "source": [
    "epochs = 100\n",
    "batch_size = 1\n",
    "loss = 'mse'\n",
    "optimer = 'adam'\n",
    "patience = 30\n",
    "\n",
    "evaluator = Evaluator()"
   ]
  },
  {
   "cell_type": "code",
   "execution_count": 17,
   "metadata": {},
   "outputs": [
    {
     "name": "stdout",
     "output_type": "stream",
     "text": [
      "Train on 43 samples, validate on 11 samples\n",
      "Epoch 1/100\n",
      "43/43 [==============================] - 3s 72ms/step - loss: 0.0326 - val_loss: 0.0040\n",
      "Epoch 2/100\n",
      "43/43 [==============================] - 0s 4ms/step - loss: 0.0134 - val_loss: 0.0028\n",
      "Epoch 3/100\n",
      "43/43 [==============================] - 0s 5ms/step - loss: 0.0091 - val_loss: 0.0035\n",
      "Epoch 4/100\n",
      "43/43 [==============================] - 0s 4ms/step - loss: 0.0075 - val_loss: 0.0069\n",
      "Epoch 5/100\n",
      "43/43 [==============================] - 0s 5ms/step - loss: 0.0067 - val_loss: 0.0081\n",
      "Epoch 6/100\n",
      "43/43 [==============================] - 0s 4ms/step - loss: 0.0067 - val_loss: 0.0064\n",
      "Epoch 7/100\n",
      "43/43 [==============================] - 0s 4ms/step - loss: 0.0069 - val_loss: 0.0107\n",
      "Epoch 8/100\n",
      "43/43 [==============================] - 0s 5ms/step - loss: 0.0069 - val_loss: 0.0066\n",
      "Epoch 9/100\n",
      "43/43 [==============================] - 0s 6ms/step - loss: 0.0064 - val_loss: 0.0098\n",
      "Epoch 10/100\n",
      "43/43 [==============================] - 0s 6ms/step - loss: 0.0063 - val_loss: 0.0093\n",
      "Epoch 11/100\n",
      "43/43 [==============================] - 0s 5ms/step - loss: 0.0069 - val_loss: 0.0095\n",
      "Epoch 12/100\n",
      "43/43 [==============================] - 0s 6ms/step - loss: 0.0070 - val_loss: 0.0072\n",
      "Epoch 13/100\n",
      "43/43 [==============================] - 0s 6ms/step - loss: 0.0066 - val_loss: 0.0092\n",
      "Epoch 14/100\n",
      "43/43 [==============================] - 0s 6ms/step - loss: 0.0066 - val_loss: 0.0099\n",
      "Epoch 15/100\n",
      "43/43 [==============================] - 0s 6ms/step - loss: 0.0066 - val_loss: 0.0088\n",
      "Epoch 16/100\n",
      "43/43 [==============================] - 0s 6ms/step - loss: 0.0069 - val_loss: 0.0111\n",
      "Epoch 17/100\n",
      "43/43 [==============================] - 0s 6ms/step - loss: 0.0065 - val_loss: 0.0089\n",
      "Epoch 18/100\n",
      "43/43 [==============================] - 0s 6ms/step - loss: 0.0069 - val_loss: 0.0112\n",
      "Epoch 19/100\n",
      "43/43 [==============================] - 0s 6ms/step - loss: 0.0068 - val_loss: 0.0062\n",
      "Epoch 20/100\n",
      "43/43 [==============================] - 0s 6ms/step - loss: 0.0068 - val_loss: 0.0111\n",
      "Epoch 21/100\n",
      "43/43 [==============================] - 0s 6ms/step - loss: 0.0066 - val_loss: 0.0069\n",
      "Epoch 22/100\n",
      "43/43 [==============================] - 0s 6ms/step - loss: 0.0068 - val_loss: 0.0107\n",
      "Epoch 23/100\n",
      "43/43 [==============================] - 0s 5ms/step - loss: 0.0066 - val_loss: 0.0064\n",
      "Epoch 24/100\n",
      "43/43 [==============================] - 0s 6ms/step - loss: 0.0064 - val_loss: 0.0085\n",
      "Epoch 25/100\n",
      "43/43 [==============================] - 0s 6ms/step - loss: 0.0063 - val_loss: 0.0078\n",
      "Epoch 26/100\n",
      "43/43 [==============================] - 0s 6ms/step - loss: 0.0065 - val_loss: 0.0113\n",
      "Epoch 27/100\n",
      "43/43 [==============================] - 0s 6ms/step - loss: 0.0064 - val_loss: 0.0088\n",
      "Epoch 28/100\n",
      "43/43 [==============================] - 0s 6ms/step - loss: 0.0071 - val_loss: 0.0124\n",
      "Epoch 29/100\n",
      "43/43 [==============================] - 0s 5ms/step - loss: 0.0069 - val_loss: 0.0112\n",
      "Epoch 30/100\n",
      "43/43 [==============================] - 0s 5ms/step - loss: 0.0064 - val_loss: 0.0058\n",
      "Epoch 31/100\n",
      "43/43 [==============================] - 0s 6ms/step - loss: 0.0065 - val_loss: 0.0092\n",
      "Epoch 32/100\n",
      "43/43 [==============================] - 0s 6ms/step - loss: 0.0067 - val_loss: 0.0072\n",
      "Epoch 00032: early stopping\n"
     ]
    }
   ],
   "source": [
    "CNN_tester = Tester(epochs, batch_size, 'tanh', loss, optimer, patience)\n",
    "CNN_history, CNN_model = CNN_tester.apply_CNN_model(X_train, y_train, X_test, y_test)"
   ]
  },
  {
   "cell_type": "code",
   "execution_count": 18,
   "metadata": {},
   "outputs": [
    {
     "data": {
      "text/html": [
       "<iframe id=\"igraph\" scrolling=\"no\" style=\"border:none;\" seamless=\"seamless\" src=\"https://plot.ly/~david.hubbard/20.embed\" height=\"525px\" width=\"100%\"></iframe>"
      ],
      "text/plain": [
       "<plotly.tools.PlotlyDisplay object>"
      ]
     },
     "execution_count": 18,
     "metadata": {},
     "output_type": "execute_result"
    }
   ],
   "source": [
    "fig = evaluator.plot_loss(CNN_history, 'CNN Model')\n",
    "py.iplot(fig, filename='CNN_Model_Accuracy')"
   ]
  },
  {
   "cell_type": "code",
   "execution_count": 19,
   "metadata": {},
   "outputs": [],
   "source": [
    "CNN_rolling_predictions = CNN_model.predict(X_test)"
   ]
  },
  {
   "cell_type": "code",
   "execution_count": 20,
   "metadata": {},
   "outputs": [],
   "source": [
    "CNN_rolling_predictions_df = evaluator.invert_preds(CNN_rolling_predictions[:,:,0], pred_times, scaler, original_train_data_array)"
   ]
  },
  {
   "cell_type": "code",
   "execution_count": 21,
   "metadata": {},
   "outputs": [
    {
     "data": {
      "text/html": [
       "<iframe id=\"igraph\" scrolling=\"no\" style=\"border:none;\" seamless=\"seamless\" src=\"https://plot.ly/~david.hubbard/40.embed\" height=\"525px\" width=\"100%\"></iframe>"
      ],
      "text/plain": [
       "<plotly.tools.PlotlyDisplay object>"
      ]
     },
     "execution_count": 21,
     "metadata": {},
     "output_type": "execute_result"
    }
   ],
   "source": [
    "fig = evaluator.plot_preds(CNN_rolling_predictions_df.Price, true_prices_df.Price, pred_times, 'CNN Rolling Model')\n",
    "py.iplot(fig, filename='CNN_Rolling_Model_Predictions')"
   ]
  },
  {
   "cell_type": "code",
   "execution_count": 22,
   "metadata": {},
   "outputs": [],
   "source": [
    "CNN_predictions = evaluator.forward_predict(X_test, CNN_model, K)"
   ]
  },
  {
   "cell_type": "code",
   "execution_count": 23,
   "metadata": {},
   "outputs": [],
   "source": [
    "CNN_predictions_df = evaluator.invert_preds(CNN_predictions[:,:,0], pred_times, scaler, original_train_data_array)"
   ]
  },
  {
   "cell_type": "code",
   "execution_count": 24,
   "metadata": {},
   "outputs": [
    {
     "data": {
      "text/html": [
       "<iframe id=\"igraph\" scrolling=\"no\" style=\"border:none;\" seamless=\"seamless\" src=\"https://plot.ly/~david.hubbard/18.embed\" height=\"525px\" width=\"100%\"></iframe>"
      ],
      "text/plain": [
       "<plotly.tools.PlotlyDisplay object>"
      ]
     },
     "execution_count": 24,
     "metadata": {},
     "output_type": "execute_result"
    }
   ],
   "source": [
    "fig = evaluator.plot_preds(CNN_predictions_df.Price, true_prices_df.Price, pred_times, 'CNN Model')\n",
    "py.iplot(fig, filename='CNN_Model_Predictions')"
   ]
  },
  {
   "cell_type": "code",
   "execution_count": 25,
   "metadata": {},
   "outputs": [
    {
     "name": "stdout",
     "output_type": "stream",
     "text": [
      "CNN Model: 19191045.582516957\n"
     ]
    }
   ],
   "source": [
    "CNN_MSE = evaluator.get_mse(CNN_predictions_df['Price'], true_prices_df['Price'], 'CNN Model')"
   ]
  },
  {
   "cell_type": "code",
   "execution_count": 26,
   "metadata": {},
   "outputs": [
    {
     "name": "stdout",
     "output_type": "stream",
     "text": [
      "GRU Rolling Model: 2543297.3613845273\n"
     ]
    }
   ],
   "source": [
    "CNN_rolling_MSE = evaluator.get_mse(CNN_rolling_predictions_df['Price'], true_prices, 'GRU Rolling Model')"
   ]
  },
  {
   "cell_type": "code",
   "execution_count": 27,
   "metadata": {},
   "outputs": [
    {
     "name": "stdout",
     "output_type": "stream",
     "text": [
      "Train on 43 samples, validate on 11 samples\n",
      "Epoch 1/100\n",
      "43/43 [==============================] - 3s 81ms/step - loss: 0.0371 - val_loss: 0.0367\n",
      "Epoch 2/100\n",
      "43/43 [==============================] - 1s 34ms/step - loss: 0.0211 - val_loss: 0.0267\n",
      "Epoch 3/100\n",
      "43/43 [==============================] - 2s 39ms/step - loss: 0.0116 - val_loss: 0.0029\n",
      "Epoch 4/100\n",
      "43/43 [==============================] - 2s 43ms/step - loss: 0.0134 - val_loss: 0.0322\n",
      "Epoch 5/100\n",
      "43/43 [==============================] - 2s 40ms/step - loss: 0.0070 - val_loss: 0.0202\n",
      "Epoch 6/100\n",
      "43/43 [==============================] - 1s 33ms/step - loss: 0.0086 - val_loss: 0.0056\n",
      "Epoch 7/100\n",
      "43/43 [==============================] - 1s 30ms/step - loss: 0.0085 - val_loss: 0.0249\n",
      "Epoch 8/100\n",
      "43/43 [==============================] - 1s 29ms/step - loss: 0.0068 - val_loss: 0.0051\n",
      "Epoch 9/100\n",
      "43/43 [==============================] - 1s 28ms/step - loss: 0.0057 - val_loss: 0.0049\n",
      "Epoch 10/100\n",
      "43/43 [==============================] - 1s 28ms/step - loss: 0.0059 - val_loss: 0.0238\n",
      "Epoch 11/100\n",
      "43/43 [==============================] - 1s 29ms/step - loss: 0.0137 - val_loss: 0.0210\n",
      "Epoch 12/100\n",
      "43/43 [==============================] - 1s 32ms/step - loss: 0.0105 - val_loss: 0.0036\n",
      "Epoch 13/100\n",
      "43/43 [==============================] - 1s 33ms/step - loss: 0.0122 - val_loss: 0.0144\n",
      "Epoch 14/100\n",
      "43/43 [==============================] - 2s 39ms/step - loss: 0.0085 - val_loss: 0.0053\n",
      "Epoch 15/100\n",
      "43/43 [==============================] - 2s 43ms/step - loss: 0.0057 - val_loss: 0.0137\n",
      "Epoch 16/100\n",
      "43/43 [==============================] - 2s 44ms/step - loss: 0.0051 - val_loss: 0.0109\n",
      "Epoch 17/100\n",
      "43/43 [==============================] - 2s 37ms/step - loss: 0.0057 - val_loss: 0.0081\n",
      "Epoch 18/100\n",
      "43/43 [==============================] - 2s 36ms/step - loss: 0.0084 - val_loss: 0.0042\n",
      "Epoch 19/100\n",
      "43/43 [==============================] - 1s 30ms/step - loss: 0.0051 - val_loss: 0.0077\n",
      "Epoch 20/100\n",
      "43/43 [==============================] - 1s 34ms/step - loss: 0.0053 - val_loss: 0.0043\n",
      "Epoch 21/100\n",
      "43/43 [==============================] - 1s 33ms/step - loss: 0.0056 - val_loss: 0.0039\n",
      "Epoch 22/100\n",
      "43/43 [==============================] - 2s 40ms/step - loss: 0.0060 - val_loss: 0.0136\n",
      "Epoch 23/100\n",
      "43/43 [==============================] - 2s 39ms/step - loss: 0.0066 - val_loss: 0.0064\n",
      "Epoch 24/100\n",
      "43/43 [==============================] - 2s 53ms/step - loss: 0.0038 - val_loss: 0.0281\n",
      "Epoch 25/100\n",
      "43/43 [==============================] - 2s 45ms/step - loss: 0.0062 - val_loss: 0.0118\n",
      "Epoch 26/100\n",
      "43/43 [==============================] - 1s 34ms/step - loss: 0.0078 - val_loss: 0.0067\n",
      "Epoch 27/100\n",
      "43/43 [==============================] - 1s 32ms/step - loss: 0.0052 - val_loss: 0.0021\n",
      "Epoch 28/100\n",
      "43/43 [==============================] - 1s 28ms/step - loss: 0.0040 - val_loss: 0.0164\n",
      "Epoch 29/100\n",
      "43/43 [==============================] - 1s 28ms/step - loss: 0.0052 - val_loss: 0.0030\n",
      "Epoch 30/100\n",
      "43/43 [==============================] - 1s 33ms/step - loss: 0.0049 - val_loss: 0.0055\n",
      "Epoch 31/100\n",
      "43/43 [==============================] - 1s 33ms/step - loss: 0.0045 - val_loss: 0.0028\n",
      "Epoch 32/100\n",
      "43/43 [==============================] - 1s 33ms/step - loss: 0.0043 - val_loss: 0.0042\n",
      "Epoch 33/100\n",
      "43/43 [==============================] - 1s 33ms/step - loss: 0.0047 - val_loss: 0.0115\n",
      "Epoch 34/100\n",
      "43/43 [==============================] - 1s 34ms/step - loss: 0.0045 - val_loss: 0.0056\n",
      "Epoch 35/100\n",
      "43/43 [==============================] - 2s 46ms/step - loss: 0.0043 - val_loss: 0.0157\n",
      "Epoch 36/100\n",
      "43/43 [==============================] - 2s 47ms/step - loss: 0.0055 - val_loss: 0.0156\n",
      "Epoch 37/100\n",
      "43/43 [==============================] - 2s 38ms/step - loss: 0.0046 - val_loss: 0.0083\n",
      "Epoch 38/100\n",
      "43/43 [==============================] - 1s 27ms/step - loss: 0.0047 - val_loss: 0.0151\n",
      "Epoch 39/100\n",
      "43/43 [==============================] - 1s 31ms/step - loss: 0.0048 - val_loss: 0.0089\n",
      "Epoch 40/100\n",
      "43/43 [==============================] - 1s 35ms/step - loss: 0.0039 - val_loss: 0.0024\n",
      "Epoch 41/100\n",
      "43/43 [==============================] - 1s 33ms/step - loss: 0.0053 - val_loss: 0.0019\n",
      "Epoch 42/100\n",
      "43/43 [==============================] - 1s 34ms/step - loss: 0.0041 - val_loss: 0.0054\n",
      "Epoch 43/100\n",
      "43/43 [==============================] - 1s 34ms/step - loss: 0.0043 - val_loss: 0.0027\n",
      "Epoch 44/100\n",
      "43/43 [==============================] - 1s 32ms/step - loss: 0.0050 - val_loss: 0.0023\n",
      "Epoch 45/100\n",
      "43/43 [==============================] - 1s 31ms/step - loss: 0.0035 - val_loss: 0.0087\n",
      "Epoch 46/100\n",
      "43/43 [==============================] - 2s 54ms/step - loss: 0.0034 - val_loss: 0.0034\n",
      "Epoch 47/100\n",
      "43/43 [==============================] - 3s 66ms/step - loss: 0.0037 - val_loss: 0.0022\n",
      "Epoch 48/100\n",
      "43/43 [==============================] - 2s 38ms/step - loss: 0.0049 - val_loss: 0.0039\n",
      "Epoch 49/100\n",
      "43/43 [==============================] - 1s 33ms/step - loss: 0.0044 - val_loss: 0.0028\n",
      "Epoch 50/100\n",
      "43/43 [==============================] - 2s 37ms/step - loss: 0.0038 - val_loss: 0.0032\n",
      "Epoch 51/100\n",
      "43/43 [==============================] - 1s 26ms/step - loss: 0.0036 - val_loss: 0.0021\n",
      "Epoch 52/100\n",
      "43/43 [==============================] - 1s 27ms/step - loss: 0.0033 - val_loss: 0.0029\n",
      "Epoch 53/100\n",
      "43/43 [==============================] - 1s 32ms/step - loss: 0.0044 - val_loss: 0.0021\n",
      "Epoch 54/100\n",
      "43/43 [==============================] - 1s 33ms/step - loss: 0.0043 - val_loss: 0.0019\n",
      "Epoch 55/100\n",
      "43/43 [==============================] - 2s 43ms/step - loss: 0.0031 - val_loss: 0.0048\n",
      "Epoch 56/100\n",
      "43/43 [==============================] - 2s 48ms/step - loss: 0.0032 - val_loss: 0.0088\n",
      "Epoch 57/100\n",
      "43/43 [==============================] - 2s 44ms/step - loss: 0.0033 - val_loss: 0.0023\n",
      "Epoch 58/100\n",
      "43/43 [==============================] - 2s 40ms/step - loss: 0.0030 - val_loss: 0.0051\n",
      "Epoch 59/100\n",
      "43/43 [==============================] - 2s 51ms/step - loss: 0.0029 - val_loss: 0.0046\n",
      "Epoch 60/100\n",
      "43/43 [==============================] - 1s 28ms/step - loss: 0.0028 - val_loss: 0.0023\n",
      "Epoch 61/100\n",
      "43/43 [==============================] - 1s 26ms/step - loss: 0.0034 - val_loss: 0.0042\n",
      "Epoch 62/100\n",
      "43/43 [==============================] - 2s 53ms/step - loss: 0.0033 - val_loss: 0.0020\n",
      "Epoch 63/100\n",
      "43/43 [==============================] - 2s 48ms/step - loss: 0.0047 - val_loss: 0.0039\n",
      "Epoch 64/100\n",
      "43/43 [==============================] - 2s 45ms/step - loss: 0.0031 - val_loss: 0.0024\n",
      "Epoch 65/100\n",
      "43/43 [==============================] - 2s 46ms/step - loss: 0.0027 - val_loss: 0.0035\n",
      "Epoch 66/100\n",
      "43/43 [==============================] - 2s 40ms/step - loss: 0.0027 - val_loss: 0.0028\n",
      "Epoch 67/100\n",
      "43/43 [==============================] - 1s 29ms/step - loss: 0.0028 - val_loss: 0.0060\n",
      "Epoch 68/100\n",
      "43/43 [==============================] - 1s 26ms/step - loss: 0.0028 - val_loss: 0.0019\n",
      "Epoch 69/100\n",
      "43/43 [==============================] - 1s 32ms/step - loss: 0.0029 - val_loss: 0.0023\n",
      "Epoch 70/100\n",
      "43/43 [==============================] - 2s 39ms/step - loss: 0.0029 - val_loss: 0.0094\n",
      "Epoch 71/100\n",
      "43/43 [==============================] - 2s 37ms/step - loss: 0.0031 - val_loss: 0.0031\n",
      "Epoch 72/100\n",
      "43/43 [==============================] - 2s 46ms/step - loss: 0.0035 - val_loss: 0.0017\n",
      "Epoch 73/100\n",
      "43/43 [==============================] - 2s 35ms/step - loss: 0.0026 - val_loss: 0.0049\n",
      "Epoch 74/100\n",
      "43/43 [==============================] - 2s 42ms/step - loss: 0.0030 - val_loss: 0.0036\n",
      "Epoch 75/100\n",
      "43/43 [==============================] - 2s 56ms/step - loss: 0.0027 - val_loss: 0.0024\n",
      "Epoch 76/100\n",
      "43/43 [==============================] - 2s 43ms/step - loss: 0.0031 - val_loss: 0.0059\n",
      "Epoch 77/100\n",
      "43/43 [==============================] - 2s 42ms/step - loss: 0.0028 - val_loss: 0.0062\n",
      "Epoch 78/100\n",
      "43/43 [==============================] - 2s 42ms/step - loss: 0.0032 - val_loss: 0.0031\n",
      "Epoch 79/100\n",
      "43/43 [==============================] - 2s 52ms/step - loss: 0.0025 - val_loss: 0.0043\n",
      "Epoch 80/100\n",
      "43/43 [==============================] - 1s 33ms/step - loss: 0.0026 - val_loss: 0.0025\n",
      "Epoch 81/100\n",
      "43/43 [==============================] - 1s 31ms/step - loss: 0.0023 - val_loss: 0.0037\n",
      "Epoch 82/100\n",
      "43/43 [==============================] - 1s 29ms/step - loss: 0.0038 - val_loss: 0.0055\n",
      "Epoch 83/100\n",
      "43/43 [==============================] - 2s 48ms/step - loss: 0.0027 - val_loss: 0.0038\n",
      "Epoch 84/100\n",
      "43/43 [==============================] - 2s 44ms/step - loss: 0.0031 - val_loss: 0.0034\n",
      "Epoch 85/100\n",
      "43/43 [==============================] - 2s 41ms/step - loss: 0.0026 - val_loss: 0.0049\n",
      "Epoch 86/100\n",
      "43/43 [==============================] - 1s 34ms/step - loss: 0.0022 - val_loss: 0.0024\n",
      "Epoch 87/100\n",
      "43/43 [==============================] - 1s 33ms/step - loss: 0.0031 - val_loss: 0.0031\n",
      "Epoch 88/100\n",
      "43/43 [==============================] - 1s 33ms/step - loss: 0.0022 - val_loss: 0.0049\n",
      "Epoch 89/100\n",
      "43/43 [==============================] - 1s 29ms/step - loss: 0.0021 - val_loss: 0.0096\n",
      "Epoch 90/100\n",
      "43/43 [==============================] - 2s 37ms/step - loss: 0.0017 - val_loss: 0.0067\n",
      "Epoch 91/100\n",
      "43/43 [==============================] - 2s 47ms/step - loss: 0.0021 - val_loss: 0.0095\n",
      "Epoch 92/100\n",
      "43/43 [==============================] - 2s 38ms/step - loss: 0.0015 - val_loss: 0.0103\n",
      "Epoch 93/100\n",
      "43/43 [==============================] - 2s 47ms/step - loss: 0.0027 - val_loss: 0.0053\n",
      "Epoch 94/100\n",
      "43/43 [==============================] - 2s 43ms/step - loss: 0.0024 - val_loss: 0.0049\n",
      "Epoch 95/100\n",
      "43/43 [==============================] - 2s 35ms/step - loss: 0.0017 - val_loss: 0.0110\n",
      "Epoch 96/100\n",
      "43/43 [==============================] - 1s 34ms/step - loss: 0.0022 - val_loss: 0.0052\n",
      "Epoch 97/100\n",
      "43/43 [==============================] - 1s 34ms/step - loss: 0.0027 - val_loss: 0.0095\n",
      "Epoch 98/100\n",
      "43/43 [==============================] - 2s 38ms/step - loss: 0.0022 - val_loss: 0.0090\n",
      "Epoch 99/100\n",
      "43/43 [==============================] - 2s 39ms/step - loss: 0.0019 - val_loss: 0.0107\n",
      "Epoch 100/100\n",
      "43/43 [==============================] - 1s 33ms/step - loss: 0.0021 - val_loss: 0.0055\n"
     ]
    }
   ],
   "source": [
    "units = 128\n",
    "RNN_tester = Tester(epochs, batch_size, 'relu', loss, optimer, patience)\n",
    "LSTM_history, LSTM_model = RNN_tester.apply_LSTM_model(X_train, y_train[:,:,0], X_test, y_test[:,:,0], units)"
   ]
  },
  {
   "cell_type": "code",
   "execution_count": 28,
   "metadata": {},
   "outputs": [
    {
     "data": {
      "text/html": [
       "<iframe id=\"igraph\" scrolling=\"no\" style=\"border:none;\" seamless=\"seamless\" src=\"https://plot.ly/~david.hubbard/16.embed\" height=\"525px\" width=\"100%\"></iframe>"
      ],
      "text/plain": [
       "<plotly.tools.PlotlyDisplay object>"
      ]
     },
     "execution_count": 28,
     "metadata": {},
     "output_type": "execute_result"
    }
   ],
   "source": [
    "fig = evaluator.plot_loss(LSTM_history, 'LSTM Model')\n",
    "py.iplot(fig, filename='LSTM_Model_Accuracy')"
   ]
  },
  {
   "cell_type": "code",
   "execution_count": 29,
   "metadata": {},
   "outputs": [],
   "source": [
    "LSTM_rolling_predictions = LSTM_model.predict(X_test)"
   ]
  },
  {
   "cell_type": "code",
   "execution_count": 30,
   "metadata": {},
   "outputs": [],
   "source": [
    "LSTM_rolling_predictions_df = evaluator.invert_preds(LSTM_rolling_predictions, pred_times, scaler, original_train_data_array)"
   ]
  },
  {
   "cell_type": "code",
   "execution_count": 31,
   "metadata": {},
   "outputs": [
    {
     "data": {
      "text/html": [
       "<iframe id=\"igraph\" scrolling=\"no\" style=\"border:none;\" seamless=\"seamless\" src=\"https://plot.ly/~david.hubbard/42.embed\" height=\"525px\" width=\"100%\"></iframe>"
      ],
      "text/plain": [
       "<plotly.tools.PlotlyDisplay object>"
      ]
     },
     "execution_count": 31,
     "metadata": {},
     "output_type": "execute_result"
    }
   ],
   "source": [
    "fig = evaluator.plot_preds(LSTM_rolling_predictions_df.Price, true_prices_df.Price, pred_times, 'LSTM Rolling Model')\n",
    "py.iplot(fig, filename='LSTM_Rolling_Model_Predictions')"
   ]
  },
  {
   "cell_type": "code",
   "execution_count": 32,
   "metadata": {},
   "outputs": [],
   "source": [
    "LSTM_predictions = evaluator.forward_predict(X_test, LSTM_model, K)"
   ]
  },
  {
   "cell_type": "code",
   "execution_count": 33,
   "metadata": {},
   "outputs": [],
   "source": [
    "LSTM_predictions_df = evaluator.invert_preds(LSTM_predictions[:,:,0], pred_times, scaler, original_train_data_array)"
   ]
  },
  {
   "cell_type": "code",
   "execution_count": 34,
   "metadata": {},
   "outputs": [
    {
     "data": {
      "text/html": [
       "<iframe id=\"igraph\" scrolling=\"no\" style=\"border:none;\" seamless=\"seamless\" src=\"https://plot.ly/~david.hubbard/10.embed\" height=\"525px\" width=\"100%\"></iframe>"
      ],
      "text/plain": [
       "<plotly.tools.PlotlyDisplay object>"
      ]
     },
     "execution_count": 34,
     "metadata": {},
     "output_type": "execute_result"
    }
   ],
   "source": [
    "fig = evaluator.plot_preds(LSTM_predictions_df.Price, true_prices_df.Price, pred_times, 'LSTM Model')\n",
    "py.iplot(fig, filename='LSTM_Model_Predictions')"
   ]
  },
  {
   "cell_type": "code",
   "execution_count": 35,
   "metadata": {},
   "outputs": [
    {
     "name": "stdout",
     "output_type": "stream",
     "text": [
      "LSTM Model: 17829731.333964113\n"
     ]
    }
   ],
   "source": [
    "LSTM_MSE = evaluator.get_mse(LSTM_predictions_df['Price'], true_prices_df['Price'], 'LSTM Model')"
   ]
  },
  {
   "cell_type": "code",
   "execution_count": 36,
   "metadata": {},
   "outputs": [
    {
     "name": "stdout",
     "output_type": "stream",
     "text": [
      "LSTM Rolling Model: 1953750.9093364673\n"
     ]
    }
   ],
   "source": [
    "LSTM_rolling_MSE = evaluator.get_mse(LSTM_rolling_predictions_df['Price'], true_prices, 'LSTM Rolling Model')"
   ]
  },
  {
   "cell_type": "code",
   "execution_count": 39,
   "metadata": {},
   "outputs": [
    {
     "name": "stdout",
     "output_type": "stream",
     "text": [
      "Train on 43 samples, validate on 11 samples\n",
      "Epoch 1/100\n",
      "43/43 [==============================] - 3s 76ms/step - loss: 0.0528 - val_loss: 0.0045\n",
      "Epoch 2/100\n",
      "43/43 [==============================] - 1s 24ms/step - loss: 0.0150 - val_loss: 0.0045\n",
      "Epoch 3/100\n",
      "43/43 [==============================] - 1s 26ms/step - loss: 0.0228 - val_loss: 0.0099\n",
      "Epoch 4/100\n",
      "43/43 [==============================] - 1s 31ms/step - loss: 0.0173 - val_loss: 0.0031\n",
      "Epoch 5/100\n",
      "43/43 [==============================] - 2s 36ms/step - loss: 0.0092 - val_loss: 0.0021\n",
      "Epoch 6/100\n",
      "43/43 [==============================] - 2s 40ms/step - loss: 0.0114 - val_loss: 0.0029\n",
      "Epoch 7/100\n",
      "43/43 [==============================] - 2s 46ms/step - loss: 0.0097 - val_loss: 0.0055\n",
      "Epoch 8/100\n",
      "43/43 [==============================] - 2s 37ms/step - loss: 0.0063 - val_loss: 0.0035\n",
      "Epoch 9/100\n",
      "43/43 [==============================] - 1s 31ms/step - loss: 0.0077 - val_loss: 0.0022\n",
      "Epoch 10/100\n",
      "43/43 [==============================] - 1s 32ms/step - loss: 0.0084 - val_loss: 0.0041\n",
      "Epoch 11/100\n",
      "43/43 [==============================] - 1s 23ms/step - loss: 0.0113 - val_loss: 0.0088\n",
      "Epoch 12/100\n",
      "43/43 [==============================] - 1s 24ms/step - loss: 0.0115 - val_loss: 0.0035\n",
      "Epoch 13/100\n",
      "43/43 [==============================] - 1s 24ms/step - loss: 0.0080 - val_loss: 0.0026\n",
      "Epoch 14/100\n",
      "43/43 [==============================] - 1s 24ms/step - loss: 0.0068 - val_loss: 0.0017\n",
      "Epoch 15/100\n",
      "43/43 [==============================] - 1s 24ms/step - loss: 0.0069 - val_loss: 0.0019\n",
      "Epoch 16/100\n",
      "43/43 [==============================] - 1s 22ms/step - loss: 0.0058 - val_loss: 0.0019\n",
      "Epoch 17/100\n",
      "43/43 [==============================] - 1s 24ms/step - loss: 0.0065 - val_loss: 0.0039\n",
      "Epoch 18/100\n",
      "43/43 [==============================] - 1s 29ms/step - loss: 0.0086 - val_loss: 0.0023\n",
      "Epoch 19/100\n",
      "43/43 [==============================] - 1s 32ms/step - loss: 0.0069 - val_loss: 0.0018\n",
      "Epoch 20/100\n",
      "43/43 [==============================] - 2s 39ms/step - loss: 0.0052 - val_loss: 0.0062\n",
      "Epoch 21/100\n",
      "43/43 [==============================] - 2s 37ms/step - loss: 0.0077 - val_loss: 0.0025\n",
      "Epoch 22/100\n",
      "43/43 [==============================] - 1s 34ms/step - loss: 0.0054 - val_loss: 0.0037\n",
      "Epoch 23/100\n",
      "43/43 [==============================] - 1s 27ms/step - loss: 0.0070 - val_loss: 0.0028\n",
      "Epoch 24/100\n",
      "43/43 [==============================] - 1s 26ms/step - loss: 0.0075 - val_loss: 0.0025\n",
      "Epoch 25/100\n",
      "43/43 [==============================] - 1s 24ms/step - loss: 0.0064 - val_loss: 0.0051\n",
      "Epoch 26/100\n",
      "43/43 [==============================] - 1s 25ms/step - loss: 0.0079 - val_loss: 0.0072\n",
      "Epoch 27/100\n",
      "43/43 [==============================] - 1s 31ms/step - loss: 0.0101 - val_loss: 0.0017\n",
      "Epoch 28/100\n",
      "43/43 [==============================] - 1s 28ms/step - loss: 0.0079 - val_loss: 0.0022\n",
      "Epoch 29/100\n",
      "43/43 [==============================] - 1s 27ms/step - loss: 0.0049 - val_loss: 0.0018\n",
      "Epoch 30/100\n",
      "43/43 [==============================] - 1s 26ms/step - loss: 0.0066 - val_loss: 0.0020\n",
      "Epoch 31/100\n",
      "43/43 [==============================] - 1s 27ms/step - loss: 0.0040 - val_loss: 0.0016\n",
      "Epoch 32/100\n",
      "43/43 [==============================] - 1s 33ms/step - loss: 0.0049 - val_loss: 0.0025\n",
      "Epoch 33/100\n",
      "43/43 [==============================] - 2s 41ms/step - loss: 0.0055 - val_loss: 0.0044\n",
      "Epoch 34/100\n",
      "43/43 [==============================] - 2s 37ms/step - loss: 0.0056 - val_loss: 0.0029\n",
      "Epoch 35/100\n",
      "43/43 [==============================] - 1s 33ms/step - loss: 0.0040 - val_loss: 0.0019\n",
      "Epoch 36/100\n",
      "43/43 [==============================] - 1s 25ms/step - loss: 0.0048 - val_loss: 0.0024\n",
      "Epoch 37/100\n",
      "43/43 [==============================] - 1s 22ms/step - loss: 0.0088 - val_loss: 0.0018\n",
      "Epoch 38/100\n",
      "43/43 [==============================] - 1s 23ms/step - loss: 0.0066 - val_loss: 0.0025\n",
      "Epoch 39/100\n",
      "43/43 [==============================] - 1s 25ms/step - loss: 0.0047 - val_loss: 0.0026\n",
      "Epoch 40/100\n",
      "43/43 [==============================] - 1s 25ms/step - loss: 0.0046 - val_loss: 0.0103\n",
      "Epoch 41/100\n",
      "43/43 [==============================] - 1s 27ms/step - loss: 0.0055 - val_loss: 0.0016\n",
      "Epoch 42/100\n",
      "43/43 [==============================] - 1s 27ms/step - loss: 0.0058 - val_loss: 0.0022\n",
      "Epoch 43/100\n",
      "43/43 [==============================] - 1s 27ms/step - loss: 0.0036 - val_loss: 0.0040\n",
      "Epoch 44/100\n",
      "43/43 [==============================] - 1s 25ms/step - loss: 0.0061 - val_loss: 0.0060\n",
      "Epoch 45/100\n",
      "43/43 [==============================] - 1s 32ms/step - loss: 0.0043 - val_loss: 0.0019\n",
      "Epoch 46/100\n",
      "43/43 [==============================] - 2s 35ms/step - loss: 0.0063 - val_loss: 0.0016\n",
      "Epoch 47/100\n",
      "43/43 [==============================] - 2s 36ms/step - loss: 0.0059 - val_loss: 0.0017\n",
      "Epoch 48/100\n",
      "43/43 [==============================] - 1s 32ms/step - loss: 0.0042 - val_loss: 0.0049\n",
      "Epoch 49/100\n",
      "43/43 [==============================] - 1s 27ms/step - loss: 0.0054 - val_loss: 0.0027\n",
      "Epoch 50/100\n",
      "43/43 [==============================] - 1s 27ms/step - loss: 0.0047 - val_loss: 0.0015\n",
      "Epoch 51/100\n",
      "43/43 [==============================] - 1s 27ms/step - loss: 0.0050 - val_loss: 0.0022\n",
      "Epoch 52/100\n",
      "43/43 [==============================] - 1s 26ms/step - loss: 0.0087 - val_loss: 0.0055\n",
      "Epoch 53/100\n",
      "43/43 [==============================] - 1s 27ms/step - loss: 0.0054 - val_loss: 0.0059\n",
      "Epoch 54/100\n",
      "43/43 [==============================] - 1s 27ms/step - loss: 0.0055 - val_loss: 0.0017\n",
      "Epoch 55/100\n",
      "43/43 [==============================] - 1s 27ms/step - loss: 0.0049 - val_loss: 0.0018\n",
      "Epoch 56/100\n",
      "43/43 [==============================] - 1s 25ms/step - loss: 0.0041 - val_loss: 0.0092\n",
      "Epoch 57/100\n",
      "43/43 [==============================] - 1s 21ms/step - loss: 0.0042 - val_loss: 0.0022\n",
      "Epoch 58/100\n",
      "43/43 [==============================] - 1s 24ms/step - loss: 0.0046 - val_loss: 0.0022\n",
      "Epoch 59/100\n",
      "43/43 [==============================] - 2s 38ms/step - loss: 0.0053 - val_loss: 0.0026\n",
      "Epoch 60/100\n",
      "43/43 [==============================] - 2s 36ms/step - loss: 0.0076 - val_loss: 0.0063\n",
      "Epoch 61/100\n",
      "43/43 [==============================] - 2s 36ms/step - loss: 0.0054 - val_loss: 0.0047\n",
      "Epoch 62/100\n",
      "43/43 [==============================] - 1s 27ms/step - loss: 0.0047 - val_loss: 0.0027\n",
      "Epoch 63/100\n",
      "43/43 [==============================] - 1s 25ms/step - loss: 0.0049 - val_loss: 0.0044\n",
      "Epoch 64/100\n",
      "43/43 [==============================] - 1s 25ms/step - loss: 0.0071 - val_loss: 0.0016\n",
      "Epoch 65/100\n",
      "43/43 [==============================] - 1s 27ms/step - loss: 0.0046 - val_loss: 0.0025\n",
      "Epoch 66/100\n",
      "43/43 [==============================] - 1s 22ms/step - loss: 0.0073 - val_loss: 0.0030\n",
      "Epoch 67/100\n",
      "43/43 [==============================] - 1s 22ms/step - loss: 0.0052 - val_loss: 0.0016\n",
      "Epoch 68/100\n",
      "43/43 [==============================] - 1s 22ms/step - loss: 0.0037 - val_loss: 0.0030\n",
      "Epoch 69/100\n",
      "43/43 [==============================] - 1s 25ms/step - loss: 0.0037 - val_loss: 0.0016\n",
      "Epoch 70/100\n",
      "43/43 [==============================] - 1s 30ms/step - loss: 0.0042 - val_loss: 0.0019\n",
      "Epoch 71/100\n",
      "43/43 [==============================] - 2s 36ms/step - loss: 0.0058 - val_loss: 0.0046\n",
      "Epoch 72/100\n",
      "43/43 [==============================] - 2s 52ms/step - loss: 0.0042 - val_loss: 0.0023\n",
      "Epoch 73/100\n",
      "43/43 [==============================] - 2s 50ms/step - loss: 0.0037 - val_loss: 0.0028\n",
      "Epoch 74/100\n",
      "43/43 [==============================] - 2s 45ms/step - loss: 0.0036 - val_loss: 0.0017\n",
      "Epoch 75/100\n",
      "43/43 [==============================] - 2s 41ms/step - loss: 0.0030 - val_loss: 0.0027\n",
      "Epoch 76/100\n",
      "43/43 [==============================] - 1s 28ms/step - loss: 0.0039 - val_loss: 0.0020\n",
      "Epoch 77/100\n",
      "43/43 [==============================] - 1s 23ms/step - loss: 0.0028 - val_loss: 0.0052\n",
      "Epoch 78/100\n",
      "43/43 [==============================] - 1s 22ms/step - loss: 0.0047 - val_loss: 0.0049\n",
      "Epoch 79/100\n",
      "43/43 [==============================] - 1s 24ms/step - loss: 0.0055 - val_loss: 0.0052\n",
      "Epoch 80/100\n",
      "43/43 [==============================] - 1s 26ms/step - loss: 0.0040 - val_loss: 0.0051\n",
      "Epoch 00080: early stopping\n"
     ]
    }
   ],
   "source": [
    "units = 128\n",
    "GRU_history, GRU_model = RNN_tester.apply_GRU_model(X_train, y_train[:,:,0], X_test, y_test[:,:,0], units)"
   ]
  },
  {
   "cell_type": "code",
   "execution_count": 40,
   "metadata": {},
   "outputs": [
    {
     "data": {
      "text/html": [
       "<iframe id=\"igraph\" scrolling=\"no\" style=\"border:none;\" seamless=\"seamless\" src=\"https://plot.ly/~david.hubbard/14.embed\" height=\"525px\" width=\"100%\"></iframe>"
      ],
      "text/plain": [
       "<plotly.tools.PlotlyDisplay object>"
      ]
     },
     "execution_count": 40,
     "metadata": {},
     "output_type": "execute_result"
    }
   ],
   "source": [
    "fig = evaluator.plot_loss(GRU_history, 'GRU Model')\n",
    "py.iplot(fig, filename='GRU_Model_Accuracy')"
   ]
  },
  {
   "cell_type": "code",
   "execution_count": 41,
   "metadata": {},
   "outputs": [],
   "source": [
    "GRU_rolling_predictions = GRU_model.predict(X_test)"
   ]
  },
  {
   "cell_type": "code",
   "execution_count": 42,
   "metadata": {},
   "outputs": [],
   "source": [
    "GRU_rolling_predictions_df = evaluator.invert_preds(GRU_rolling_predictions, pred_times, scaler, original_train_data_array)"
   ]
  },
  {
   "cell_type": "code",
   "execution_count": 43,
   "metadata": {},
   "outputs": [
    {
     "data": {
      "text/html": [
       "<iframe id=\"igraph\" scrolling=\"no\" style=\"border:none;\" seamless=\"seamless\" src=\"https://plot.ly/~david.hubbard/44.embed\" height=\"525px\" width=\"100%\"></iframe>"
      ],
      "text/plain": [
       "<plotly.tools.PlotlyDisplay object>"
      ]
     },
     "execution_count": 43,
     "metadata": {},
     "output_type": "execute_result"
    }
   ],
   "source": [
    "fig = evaluator.plot_preds(GRU_rolling_predictions_df.Price, true_prices_df.Price, pred_times, 'GRU Rolling Model')\n",
    "py.iplot(fig, filename='GRU_Rolling_Model_Predictions')"
   ]
  },
  {
   "cell_type": "code",
   "execution_count": 44,
   "metadata": {},
   "outputs": [],
   "source": [
    "GRU_predictions = evaluator.forward_predict(X_test, GRU_model, K)"
   ]
  },
  {
   "cell_type": "code",
   "execution_count": 45,
   "metadata": {},
   "outputs": [],
   "source": [
    "GRU_predictions_df = evaluator.invert_preds(GRU_predictions[:,:,0], pred_times, scaler, original_train_data_array)"
   ]
  },
  {
   "cell_type": "code",
   "execution_count": 46,
   "metadata": {},
   "outputs": [
    {
     "data": {
      "text/html": [
       "<iframe id=\"igraph\" scrolling=\"no\" style=\"border:none;\" seamless=\"seamless\" src=\"https://plot.ly/~david.hubbard/12.embed\" height=\"525px\" width=\"100%\"></iframe>"
      ],
      "text/plain": [
       "<plotly.tools.PlotlyDisplay object>"
      ]
     },
     "execution_count": 46,
     "metadata": {},
     "output_type": "execute_result"
    }
   ],
   "source": [
    "fig = evaluator.plot_preds(GRU_predictions_df.Price, true_prices_df.Price, pred_times, 'GRU Model')\n",
    "py.iplot(fig, filename='GRU_Model_Predictions')"
   ]
  },
  {
   "cell_type": "code",
   "execution_count": 47,
   "metadata": {},
   "outputs": [
    {
     "name": "stdout",
     "output_type": "stream",
     "text": [
      "GRU Model: 34177960.31915288\n"
     ]
    }
   ],
   "source": [
    "GRU_MSE = evaluator.get_mse(GRU_predictions_df['Price'], true_prices_df['Price'], 'GRU Model')"
   ]
  },
  {
   "cell_type": "code",
   "execution_count": 48,
   "metadata": {},
   "outputs": [
    {
     "name": "stdout",
     "output_type": "stream",
     "text": [
      "GRU rolling Model: 1810696.9539232485\n"
     ]
    }
   ],
   "source": [
    "GRU_rolling_MSE = evaluator.get_mse(GRU_rolling_predictions_df['Price'], true_prices, 'GRU rolling Model')"
   ]
  },
  {
   "cell_type": "code",
   "execution_count": null,
   "metadata": {},
   "outputs": [],
   "source": []
  }
 ],
 "metadata": {
  "kernelspec": {
   "display_name": "Python 3",
   "language": "python",
   "name": "python3"
  },
  "language_info": {
   "codemirror_mode": {
    "name": "ipython",
    "version": 3
   },
   "file_extension": ".py",
   "mimetype": "text/x-python",
   "name": "python",
   "nbconvert_exporter": "python",
   "pygments_lexer": "ipython3",
   "version": "3.6.5"
  }
 },
 "nbformat": 4,
 "nbformat_minor": 2
}
